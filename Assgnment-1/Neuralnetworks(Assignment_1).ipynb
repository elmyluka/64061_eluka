{
  "nbformat": 4,
  "nbformat_minor": 0,
  "metadata": {
    "colab": {
      "provenance": [],
      "machine_shape": "hm"
    },
    "kernelspec": {
      "name": "python3",
      "display_name": "Python 3"
    },
    "language_info": {
      "name": "python"
    },
    "gpuClass": "standard"
  },
  "cells": [
    {
      "cell_type": "markdown",
      "source": [
        "**BUILDING NEURAL NETWORK MODEL FOR THE IMDB DATASET**\n",
        "\n",
        "\n",
        "\n",
        "\n",
        "\n"
      ],
      "metadata": {
        "id": "mc40hCXtk1mD"
      }
    },
    {
      "cell_type": "code",
      "execution_count": 61,
      "metadata": {
        "id": "sVKc0EB4FRVN"
      },
      "outputs": [],
      "source": [
        "#Importing required packages\n",
        "\n",
        "import numpy as np\n",
        "import pandas as pd\n",
        "from pandas import Series, DataFrame\n",
        "\n",
        "#Visualization Packages\n",
        "\n",
        "import seaborn as sns\n",
        "import matplotlib.pyplot as plt\n",
        "%matplotlib inline\n",
        "\n",
        "#Deep Learning Packages\n",
        "\n",
        "from tensorflow import keras\n",
        "from tensorflow.keras import models\n",
        "from tensorflow.keras import layers\n",
        "from tensorflow.keras import regularizers\n",
        "from keras.layers import Dense\n",
        "from keras.layers import Dropout\n",
        "from tensorflow.python import metrics\n",
        "from tensorflow.keras.utils import plot_model"
      ]
    },
    {
      "cell_type": "code",
      "source": [
        "from tensorflow.keras.datasets import imdb\n",
        "(train_data, train_labels), (test_data, test_labels) = imdb.load_data(num_words=10000)\n",
        "     "
      ],
      "metadata": {
        "id": "dfuQitUMFuOC"
      },
      "execution_count": 62,
      "outputs": []
    },
    {
      "cell_type": "code",
      "source": [
        "max([max(sequence) for sequence in train_data])"
      ],
      "metadata": {
        "colab": {
          "base_uri": "https://localhost:8080/"
        },
        "id": "spQIeZYNHjQ8",
        "outputId": "4c35850d-0ac5-4fd8-8bf8-55d7fa81212e"
      },
      "execution_count": 63,
      "outputs": [
        {
          "output_type": "execute_result",
          "data": {
            "text/plain": [
              "9999"
            ]
          },
          "metadata": {},
          "execution_count": 63
        }
      ]
    },
    {
      "cell_type": "markdown",
      "source": [
        "The ability to decode integers to reviews is demonstrated in the section below. "
      ],
      "metadata": {
        "id": "fzgJ0lXg8ztz"
      }
    },
    {
      "cell_type": "code",
      "source": [
        "word_index = imdb.get_word_index()\n",
        "reverse_word_index = dict(\n",
        "    [(value, key) for (key, value) in word_index.items()])\n",
        "decoded_review = \" \".join(\n",
        "    [reverse_word_index.get(i - 3, \"?\") for i in train_data[0]])"
      ],
      "metadata": {
        "id": "BhQqneHTMUWZ"
      },
      "execution_count": 64,
      "outputs": []
    },
    {
      "cell_type": "markdown",
      "source": [
        "# DATA PREPARATION\n",
        "The dataset is vectorized here by Create an all-zero matrix of shape (len(sequences), dimension)."
      ],
      "metadata": {
        "id": "TtTU7en6_Lrt"
      }
    },
    {
      "cell_type": "code",
      "source": [
        "def vectorize_sequences(sequences, dimension=10000):\n",
        "    results = np.zeros((len(sequences), dimension))\n",
        "    for i, sequence in enumerate(sequences):\n",
        "        for j in sequence:\n",
        "            results[i, j] = 1.\n",
        "    return results\n",
        "x_train = vectorize_sequences(train_data)\n",
        "x_test = vectorize_sequences(test_data)"
      ],
      "metadata": {
        "id": "yHO1q9cuPDWL"
      },
      "execution_count": 65,
      "outputs": []
    },
    {
      "cell_type": "markdown",
      "source": [
        "DATA VECTORIZATION"
      ],
      "metadata": {
        "id": "n6tnbj_x_g7a"
      }
    },
    {
      "cell_type": "code",
      "source": [
        "y_train = np.asarray(train_labels).astype(\"float32\")\n",
        "y_test = np.asarray(test_labels).astype(\"float32\")"
      ],
      "metadata": {
        "id": "3LNUrcIHPSL-"
      },
      "execution_count": 66,
      "outputs": []
    },
    {
      "cell_type": "markdown",
      "source": [
        "**MODEL-1**"
      ],
      "metadata": {
        "id": "F4nW40kstp6i"
      }
    },
    {
      "cell_type": "code",
      "source": [
        "model = keras.Sequential([\n",
        "    layers.Dense(16, activation=\"tanh\"),\n",
        "    layers.Dense(16, activation=\"tanh\"),\n",
        "    layers.Dense(16, activation=\"tanh\"),\n",
        "    layers.Dense(1, activation=\"sigmoid\")\n",
        "])\n",
        "\n",
        "model.compile(optimizer=\"rmsprop\",\n",
        "              loss=\"mse\",\n",
        "              metrics=[\"accuracy\"])\n",
        "     "
      ],
      "metadata": {
        "id": "5UMR4W6anOmQ"
      },
      "execution_count": 67,
      "outputs": []
    },
    {
      "cell_type": "code",
      "source": [
        "x_val = x_train[:10000]\n",
        "partial_x_train = x_train[10000:]\n",
        "y_val = y_train[:10000]\n",
        "partial_y_train = y_train[10000:]"
      ],
      "metadata": {
        "id": "QZ4qsV3bPum4"
      },
      "execution_count": 68,
      "outputs": []
    },
    {
      "cell_type": "code",
      "source": [
        "history = model.fit(partial_x_train,\n",
        "                    partial_y_train,\n",
        "                    epochs=20,\n",
        "                    batch_size=512,\n",
        "                    validation_data=(x_val, y_val))"
      ],
      "metadata": {
        "colab": {
          "base_uri": "https://localhost:8080/"
        },
        "id": "YxYsGJCDoZmn",
        "outputId": "3f6241cb-1d9c-4be6-b958-624b13e5b432"
      },
      "execution_count": 69,
      "outputs": [
        {
          "output_type": "stream",
          "name": "stdout",
          "text": [
            "Epoch 1/20\n",
            "30/30 [==============================] - 3s 74ms/step - loss: 0.1704 - accuracy: 0.7673 - val_loss: 0.1217 - val_accuracy: 0.8435\n",
            "Epoch 2/20\n",
            "30/30 [==============================] - 1s 43ms/step - loss: 0.0872 - accuracy: 0.8941 - val_loss: 0.0906 - val_accuracy: 0.8780\n",
            "Epoch 3/20\n",
            "30/30 [==============================] - 1s 32ms/step - loss: 0.0656 - accuracy: 0.9171 - val_loss: 0.0831 - val_accuracy: 0.8858\n",
            "Epoch 4/20\n",
            "30/30 [==============================] - 1s 33ms/step - loss: 0.0504 - accuracy: 0.9369 - val_loss: 0.0938 - val_accuracy: 0.8722\n",
            "Epoch 5/20\n",
            "30/30 [==============================] - 1s 27ms/step - loss: 0.0422 - accuracy: 0.9471 - val_loss: 0.0904 - val_accuracy: 0.8785\n",
            "Epoch 6/20\n",
            "30/30 [==============================] - 1s 27ms/step - loss: 0.0333 - accuracy: 0.9607 - val_loss: 0.0976 - val_accuracy: 0.8747\n",
            "Epoch 7/20\n",
            "30/30 [==============================] - 1s 27ms/step - loss: 0.0308 - accuracy: 0.9624 - val_loss: 0.0988 - val_accuracy: 0.8733\n",
            "Epoch 8/20\n",
            "30/30 [==============================] - 1s 38ms/step - loss: 0.0259 - accuracy: 0.9695 - val_loss: 0.1041 - val_accuracy: 0.8706\n",
            "Epoch 9/20\n",
            "30/30 [==============================] - 1s 27ms/step - loss: 0.0234 - accuracy: 0.9735 - val_loss: 0.1029 - val_accuracy: 0.8749\n",
            "Epoch 10/20\n",
            "30/30 [==============================] - 1s 23ms/step - loss: 0.0200 - accuracy: 0.9775 - val_loss: 0.1207 - val_accuracy: 0.8574\n",
            "Epoch 11/20\n",
            "30/30 [==============================] - 1s 23ms/step - loss: 0.0163 - accuracy: 0.9818 - val_loss: 0.1401 - val_accuracy: 0.8387\n",
            "Epoch 12/20\n",
            "30/30 [==============================] - 1s 26ms/step - loss: 0.0208 - accuracy: 0.9763 - val_loss: 0.1185 - val_accuracy: 0.8605\n",
            "Epoch 13/20\n",
            "30/30 [==============================] - 1s 24ms/step - loss: 0.0110 - accuracy: 0.9894 - val_loss: 0.1085 - val_accuracy: 0.8722\n",
            "Epoch 14/20\n",
            "30/30 [==============================] - 1s 27ms/step - loss: 0.0149 - accuracy: 0.9843 - val_loss: 0.1118 - val_accuracy: 0.8701\n",
            "Epoch 15/20\n",
            "30/30 [==============================] - 1s 27ms/step - loss: 0.0167 - accuracy: 0.9815 - val_loss: 0.1107 - val_accuracy: 0.8718\n",
            "Epoch 16/20\n",
            "30/30 [==============================] - 1s 21ms/step - loss: 0.0106 - accuracy: 0.9893 - val_loss: 0.1415 - val_accuracy: 0.8407\n",
            "Epoch 17/20\n",
            "30/30 [==============================] - 1s 29ms/step - loss: 0.0116 - accuracy: 0.9876 - val_loss: 0.1113 - val_accuracy: 0.8711\n",
            "Epoch 18/20\n",
            "30/30 [==============================] - 1s 31ms/step - loss: 0.0143 - accuracy: 0.9841 - val_loss: 0.1127 - val_accuracy: 0.8710\n",
            "Epoch 19/20\n",
            "30/30 [==============================] - 1s 30ms/step - loss: 0.0084 - accuracy: 0.9919 - val_loss: 0.1263 - val_accuracy: 0.8583\n",
            "Epoch 20/20\n",
            "30/30 [==============================] - 1s 26ms/step - loss: 0.0146 - accuracy: 0.9843 - val_loss: 0.1123 - val_accuracy: 0.8738\n"
          ]
        }
      ]
    },
    {
      "cell_type": "code",
      "source": [
        "history_dict_1 = history.history\n",
        "history_dict_1.keys()"
      ],
      "metadata": {
        "colab": {
          "base_uri": "https://localhost:8080/"
        },
        "id": "J9Ipm3ydomhn",
        "outputId": "54fa4ef0-fa21-40f7-c7ca-6f76295aaba3"
      },
      "execution_count": 70,
      "outputs": [
        {
          "output_type": "execute_result",
          "data": {
            "text/plain": [
              "dict_keys(['loss', 'accuracy', 'val_loss', 'val_accuracy'])"
            ]
          },
          "metadata": {},
          "execution_count": 70
        }
      ]
    },
    {
      "cell_type": "code",
      "source": [
        "\n",
        "import matplotlib.pyplot as plt\n",
        "history_dict_1 = history.history\n",
        "loss_values = history_dict_1[\"loss\"]\n",
        "val_loss_values = history_dict_1[\"val_loss\"]\n",
        "epochs = range(1, len(loss_values) + 1)\n",
        "plt.plot(epochs, loss_values, \"grey\", label=\"Training loss\")\n",
        "plt.plot(epochs, val_loss_values, \"blue\", label=\"Validation loss\")\n",
        "plt.title(\"Training and validation loss\")\n",
        "plt.xlabel(\"Epochs\")\n",
        "plt.ylabel(\"Loss\")\n",
        "plt.legend()\n",
        "plt.show()"
      ],
      "metadata": {
        "colab": {
          "base_uri": "https://localhost:8080/",
          "height": 295
        },
        "id": "ILj_f2LDoyTu",
        "outputId": "4fc42398-290b-4a33-d5e3-74476f18d3ed"
      },
      "execution_count": 71,
      "outputs": [
        {
          "output_type": "display_data",
          "data": {
            "text/plain": [
              "<Figure size 432x288 with 1 Axes>"
            ],
            "image/png": "[encoded data removed]"
          },
          "metadata": {
            "needs_background": "light"
          }
        }
      ]
    },
    {
      "cell_type": "code",
      "source": [
        "\n",
        "plt.clf()\n",
        "acc = history_dict_1[\"accuracy\"]\n",
        "val_acc = history_dict_1[\"val_accuracy\"]\n",
        "plt.plot(epochs, acc, \"grey\", label=\"Training acc\")\n",
        "plt.plot(epochs, val_acc, \"blue\", label=\"Validation acc\")\n",
        "plt.title(\"Training and validation accuracy\")\n",
        "plt.xlabel(\"Epochs\")\n",
        "plt.ylabel(\"Accuracy\")\n",
        "plt.legend()\n",
        "plt.show()\n",
        "     "
      ],
      "metadata": {
        "colab": {
          "base_uri": "https://localhost:8080/",
          "height": 295
        },
        "id": "7fl8OvowpQMA",
        "outputId": "d512e9aa-4d9f-4388-c5de-fed4821716e2"
      },
      "execution_count": 72,
      "outputs": [
        {
          "output_type": "display_data",
          "data": {
            "text/plain": [
              "<Figure size 432x288 with 1 Axes>"
            ],
            "image/png": "[encoded data removed]"
          },
          "metadata": {
            "needs_background": "light"
          }
        }
      ]
    },
    {
      "cell_type": "code",
      "source": [
        "model = keras.Sequential([\n",
        "    layers.Dense(16, activation=\"tanh\"),\n",
        "    layers.Dense(16, activation=\"tanh\"),\n",
        "    layers.Dense(16, activation=\"tanh\"),\n",
        "    layers.Dense(1, activation=\"sigmoid\")\n",
        "])\n",
        "model.compile(optimizer=\"rmsprop\",\n",
        "              loss=\"mse\",\n",
        "              metrics=[\"accuracy\"])\n",
        "model.fit(x_train, y_train, epochs=4, batch_size=512)\n",
        "results = model.evaluate(x_test, y_test)"
      ],
      "metadata": {
        "colab": {
          "base_uri": "https://localhost:8080/"
        },
        "id": "2FTbMi9b8bMF",
        "outputId": "b3ece1b3-a107-4965-ec74-4b5c41518fce"
      },
      "execution_count": 73,
      "outputs": [
        {
          "output_type": "stream",
          "name": "stdout",
          "text": [
            "Epoch 1/4\n",
            "49/49 [==============================] - 1s 16ms/step - loss: 0.1489 - accuracy: 0.8142\n",
            "Epoch 2/4\n",
            "49/49 [==============================] - 1s 16ms/step - loss: 0.0783 - accuracy: 0.9003\n",
            "Epoch 3/4\n",
            "49/49 [==============================] - 1s 16ms/step - loss: 0.0597 - accuracy: 0.9231\n",
            "Epoch 4/4\n",
            "49/49 [==============================] - 1s 16ms/step - loss: 0.0512 - accuracy: 0.9355\n",
            "782/782 [==============================] - 2s 2ms/step - loss: 0.0895 - accuracy: 0.8816\n"
          ]
        }
      ]
    },
    {
      "cell_type": "code",
      "source": [
        "results"
      ],
      "metadata": {
        "colab": {
          "base_uri": "https://localhost:8080/"
        },
        "id": "HnlqWkCp-lXB",
        "outputId": "f6ef1be3-489d-4670-bc3d-bc96d47eba09"
      },
      "execution_count": 74,
      "outputs": [
        {
          "output_type": "execute_result",
          "data": {
            "text/plain": [
              "[0.08945966511964798, 0.881600022315979]"
            ]
          },
          "metadata": {},
          "execution_count": 74
        }
      ]
    },
    {
      "cell_type": "code",
      "source": [
        "model.predict(x_test)"
      ],
      "metadata": {
        "colab": {
          "base_uri": "https://localhost:8080/"
        },
        "id": "6abuc-6I-zp5",
        "outputId": "7d316364-d7d6-4a14-eb23-bdb75c115ec8"
      },
      "execution_count": 75,
      "outputs": [
        {
          "output_type": "stream",
          "name": "stdout",
          "text": [
            "782/782 [==============================] - 1s 2ms/step\n"
          ]
        },
        {
          "output_type": "execute_result",
          "data": {
            "text/plain": [
              "array([[0.06397393],\n",
              "       [0.9921777 ],\n",
              "       [0.7766795 ],\n",
              "       ...,\n",
              "       [0.06553878],\n",
              "       [0.04680231],\n",
              "       [0.21327224]], dtype=float32)"
            ]
          },
          "metadata": {},
          "execution_count": 75
        }
      ]
    },
    {
      "cell_type": "markdown",
      "source": [
        "**MODEL-2**"
      ],
      "metadata": {
        "id": "zvGjQEo81nV8"
      }
    },
    {
      "cell_type": "code",
      "source": [
        "\n",
        "model_1 = keras.Sequential([\n",
        "    layers.Dense(16, activation=\"tanh\"),\n",
        "    layers.Dense(16, activation=\"tanh\"),\n",
        "    layers.Dense(1, activation=\"sigmoid\")\n",
        "])\n",
        "\n",
        "model_1.compile(optimizer=\"rmsprop\",\n",
        "              loss=\"mse\",\n",
        "              metrics=[\"accuracy\"])\n",
        "\n",
        "x_val = x_train[:10000]\n",
        "partial_x_train = x_train[10000:]\n",
        "\n",
        "y_val = y_train[:10000]\n",
        "partial_y_train = y_train[10000:]\n",
        "\n",
        "\n",
        "history_1 = model_1.fit(partial_x_train,\n",
        "                    partial_y_train,\n",
        "                    epochs=20,\n",
        "                    batch_size=512,\n",
        "                    validation_data=(x_val, y_val))"
      ],
      "metadata": {
        "colab": {
          "base_uri": "https://localhost:8080/"
        },
        "id": "J7C_AhGy-722",
        "outputId": "f5069d8b-9c99-4671-ec10-6d9a2832c2e3"
      },
      "execution_count": 76,
      "outputs": [
        {
          "output_type": "stream",
          "name": "stdout",
          "text": [
            "Epoch 1/20\n",
            "30/30 [==============================] - 2s 48ms/step - loss: 0.1665 - accuracy: 0.7913 - val_loss: 0.1176 - val_accuracy: 0.8680\n",
            "Epoch 2/20\n",
            "30/30 [==============================] - 1s 22ms/step - loss: 0.0938 - accuracy: 0.8969 - val_loss: 0.0979 - val_accuracy: 0.8747\n",
            "Epoch 3/20\n",
            "30/30 [==============================] - 1s 27ms/step - loss: 0.0703 - accuracy: 0.9165 - val_loss: 0.0855 - val_accuracy: 0.8870\n",
            "Epoch 4/20\n",
            "30/30 [==============================] - 1s 27ms/step - loss: 0.0541 - accuracy: 0.9366 - val_loss: 0.1076 - val_accuracy: 0.8517\n",
            "Epoch 5/20\n",
            "30/30 [==============================] - 1s 21ms/step - loss: 0.0453 - accuracy: 0.9468 - val_loss: 0.0842 - val_accuracy: 0.8838\n",
            "Epoch 6/20\n",
            "30/30 [==============================] - 1s 27ms/step - loss: 0.0371 - accuracy: 0.9583 - val_loss: 0.0862 - val_accuracy: 0.8828\n",
            "Epoch 7/20\n",
            "30/30 [==============================] - 1s 22ms/step - loss: 0.0320 - accuracy: 0.9645 - val_loss: 0.0877 - val_accuracy: 0.8802\n",
            "Epoch 8/20\n",
            "30/30 [==============================] - 1s 30ms/step - loss: 0.0271 - accuracy: 0.9710 - val_loss: 0.0929 - val_accuracy: 0.8773\n",
            "Epoch 9/20\n",
            "30/30 [==============================] - 1s 30ms/step - loss: 0.0239 - accuracy: 0.9752 - val_loss: 0.1191 - val_accuracy: 0.8491\n",
            "Epoch 10/20\n",
            "30/30 [==============================] - 1s 25ms/step - loss: 0.0215 - accuracy: 0.9764 - val_loss: 0.0945 - val_accuracy: 0.8779\n",
            "Epoch 11/20\n",
            "30/30 [==============================] - 1s 22ms/step - loss: 0.0186 - accuracy: 0.9809 - val_loss: 0.0990 - val_accuracy: 0.8744\n",
            "Epoch 12/20\n",
            "30/30 [==============================] - 1s 28ms/step - loss: 0.0176 - accuracy: 0.9817 - val_loss: 0.0993 - val_accuracy: 0.8764\n",
            "Epoch 13/20\n",
            "30/30 [==============================] - 1s 22ms/step - loss: 0.0160 - accuracy: 0.9832 - val_loss: 0.1016 - val_accuracy: 0.8741\n",
            "Epoch 14/20\n",
            "30/30 [==============================] - 1s 27ms/step - loss: 0.0142 - accuracy: 0.9846 - val_loss: 0.1021 - val_accuracy: 0.8750\n",
            "Epoch 15/20\n",
            "30/30 [==============================] - 1s 24ms/step - loss: 0.0135 - accuracy: 0.9860 - val_loss: 0.1030 - val_accuracy: 0.8757\n",
            "Epoch 16/20\n",
            "30/30 [==============================] - 1s 21ms/step - loss: 0.0087 - accuracy: 0.9921 - val_loss: 0.1158 - val_accuracy: 0.8619\n",
            "Epoch 17/20\n",
            "30/30 [==============================] - 1s 21ms/step - loss: 0.0115 - accuracy: 0.9881 - val_loss: 0.1049 - val_accuracy: 0.8737\n",
            "Epoch 18/20\n",
            "30/30 [==============================] - 1s 21ms/step - loss: 0.0129 - accuracy: 0.9854 - val_loss: 0.1056 - val_accuracy: 0.8750\n",
            "Epoch 19/20\n",
            "30/30 [==============================] - 1s 21ms/step - loss: 0.0072 - accuracy: 0.9933 - val_loss: 0.1082 - val_accuracy: 0.8736\n",
            "Epoch 20/20\n",
            "30/30 [==============================] - 1s 20ms/step - loss: 0.0115 - accuracy: 0.9874 - val_loss: 0.1081 - val_accuracy: 0.8711\n"
          ]
        }
      ]
    },
    {
      "cell_type": "code",
      "source": [
        "history_dict_2 = history_1.history\n",
        "history_dict_2.keys()"
      ],
      "metadata": {
        "colab": {
          "base_uri": "https://localhost:8080/"
        },
        "id": "fkr2_8x0_Zvf",
        "outputId": "23dda1ed-0531-4103-e124-90cd6d871ed3"
      },
      "execution_count": 77,
      "outputs": [
        {
          "output_type": "execute_result",
          "data": {
            "text/plain": [
              "dict_keys(['loss', 'accuracy', 'val_loss', 'val_accuracy'])"
            ]
          },
          "metadata": {},
          "execution_count": 77
        }
      ]
    },
    {
      "cell_type": "code",
      "source": [
        "import matplotlib.pyplot as plt\n",
        "history_dict_2 = history_1.history\n",
        "loss_values = history_dict_2[\"loss\"]\n",
        "val_loss_values = history_dict_2[\"val_loss\"]\n",
        "epochs = range(1, len(loss_values) + 1)\n",
        "#Plotting graph between Training and Validation loss\n",
        "plt.plot(epochs, loss_values, \"grey\", label=\"Training loss\")\n",
        "plt.plot(epochs, val_loss_values, \"red\", label=\"Validation loss\")\n",
        "plt.title(\"Training and validation loss\")\n",
        "plt.xlabel(\"Epochs\")\n",
        "plt.ylabel(\"Loss\")\n",
        "plt.legend()\n",
        "plt.show()\n",
        "\n",
        "#Plotting graph between Training and Validation Accuracy\n",
        "plt.clf()\n",
        "acc = history_dict_2[\"accuracy\"]\n",
        "val_acc = history_dict_2[\"val_accuracy\"]\n",
        "plt.plot(epochs, acc, \"grey\", label=\"Training accuracy\")\n",
        "plt.plot(epochs, val_acc, \"red\", label=\"Validation accuracy\")\n",
        "plt.title(\"Training and validation accuracy\")\n",
        "plt.xlabel(\"Epochs\")\n",
        "plt.ylabel(\"Accuracy\")\n",
        "plt.legend()\n",
        "plt.show()"
      ],
      "metadata": {
        "colab": {
          "base_uri": "https://localhost:8080/",
          "height": 573
        },
        "id": "nZ9tGIHM_o3Q",
        "outputId": "ec1ec03a-c61b-463a-f871-3724e3d90cd8"
      },
      "execution_count": 78,
      "outputs": [
        {
          "output_type": "display_data",
          "data": {
            "text/plain": [
              "<Figure size 432x288 with 1 Axes>"
            ],
            "image/png": "[encoded data removed]"
          },
          "metadata": {
            "needs_background": "light"
          }
        },
        {
          "output_type": "display_data",
          "data": {
            "text/plain": [
              "<Figure size 432x288 with 1 Axes>"
            ],
            "image/png": "[encoded data removed]"
          },
          "metadata": {
            "needs_background": "light"
          }
        }
      ]
    },
    {
      "cell_type": "code",
      "source": [
        "np.random.seed(111)\n",
        "model_1 = keras.Sequential([\n",
        "    layers.Dense(16, activation=\"tanh\"),\n",
        "    layers.Dense(16, activation=\"tanh\"),\n",
        "    layers.Dense(1, activation=\"sigmoid\")\n",
        "])\n",
        "\n",
        "model_1.compile(optimizer=\"rmsprop\",\n",
        "              loss=\"mse\",\n",
        "              metrics=[\"accuracy\"])\n",
        "model_1.fit(x_train, y_train, epochs=5, batch_size=512)\n",
        "results_1 = model_1.evaluate(x_test, y_test)"
      ],
      "metadata": {
        "colab": {
          "base_uri": "https://localhost:8080/"
        },
        "id": "oi7TF3FBCbKb",
        "outputId": "9d7088fb-e5ab-42bb-9129-4a799d3d1be6"
      },
      "execution_count": 79,
      "outputs": [
        {
          "output_type": "stream",
          "name": "stdout",
          "text": [
            "Epoch 1/5\n",
            "49/49 [==============================] - 1s 16ms/step - loss: 0.1471 - accuracy: 0.8118\n",
            "Epoch 2/5\n",
            "49/49 [==============================] - 1s 20ms/step - loss: 0.0806 - accuracy: 0.9000\n",
            "Epoch 3/5\n",
            "49/49 [==============================] - 1s 27ms/step - loss: 0.0617 - accuracy: 0.9223\n",
            "Epoch 4/5\n",
            "49/49 [==============================] - 1s 17ms/step - loss: 0.0522 - accuracy: 0.9346\n",
            "Epoch 5/5\n",
            "49/49 [==============================] - 1s 15ms/step - loss: 0.0451 - accuracy: 0.9442\n",
            "782/782 [==============================] - 2s 2ms/step - loss: 0.0899 - accuracy: 0.8800\n"
          ]
        }
      ]
    },
    {
      "cell_type": "code",
      "source": [
        "results_1"
      ],
      "metadata": {
        "colab": {
          "base_uri": "https://localhost:8080/"
        },
        "id": "JK44gCvgC2QK",
        "outputId": "6df96fb5-8b21-4749-f6c8-d945fef90269"
      },
      "execution_count": 80,
      "outputs": [
        {
          "output_type": "execute_result",
          "data": {
            "text/plain": [
              "[0.08990815281867981, 0.8799600005149841]"
            ]
          },
          "metadata": {},
          "execution_count": 80
        }
      ]
    },
    {
      "cell_type": "code",
      "source": [
        "model_1.predict(x_test)"
      ],
      "metadata": {
        "colab": {
          "base_uri": "https://localhost:8080/"
        },
        "id": "k4bZS-GPC4V4",
        "outputId": "e0d9141a-5e29-468f-ced8-107a331879c3"
      },
      "execution_count": 81,
      "outputs": [
        {
          "output_type": "stream",
          "name": "stdout",
          "text": [
            "782/782 [==============================] - 1s 2ms/step\n"
          ]
        },
        {
          "output_type": "execute_result",
          "data": {
            "text/plain": [
              "array([[0.06687741],\n",
              "       [0.9991978 ],\n",
              "       [0.79281014],\n",
              "       ...,\n",
              "       [0.09085386],\n",
              "       [0.05202426],\n",
              "       [0.62543714]], dtype=float32)"
            ]
          },
          "metadata": {},
          "execution_count": 81
        }
      ]
    },
    {
      "cell_type": "markdown",
      "source": [
        "**MODEL-3**"
      ],
      "metadata": {
        "id": "v7YesTPU1t3_"
      }
    },
    {
      "cell_type": "code",
      "source": [
        "np.random.seed(222)\n",
        "model_2 = keras.Sequential([\n",
        "    layers.Dense(16, activation=\"tanh\"),\n",
        "    layers.Dense(16, activation=\"tanh\"),\n",
        "    layers.Dense(16, activation=\"tanh\"),\n",
        "    layers.Dense(1, activation=\"sigmoid\")\n",
        "])\n",
        "model_2.compile(optimizer=\"rmsprop\",\n",
        "              loss=\"mse\",\n",
        "              metrics=[\"accuracy\"])\n",
        "x_val = x_train[:10000]\n",
        "partial_x_train = x_train[10000:]\n",
        "\n",
        "y_val = y_train[:10000]\n",
        "partial_y_train = y_train[10000:]\n",
        "\n",
        "history_2 = model_2.fit(partial_x_train,\n",
        "                    partial_y_train,\n",
        "                    epochs=20,\n",
        "                    batch_size=512,\n",
        "                    validation_data=(x_val, y_val))"
      ],
      "metadata": {
        "colab": {
          "base_uri": "https://localhost:8080/"
        },
        "id": "TC3lfgEXDApj",
        "outputId": "b86dd7f9-4b82-4417-dddb-73a162ea8416"
      },
      "execution_count": 82,
      "outputs": [
        {
          "output_type": "stream",
          "name": "stdout",
          "text": [
            "Epoch 1/20\n",
            "30/30 [==============================] - 2s 50ms/step - loss: 0.1649 - accuracy: 0.7784 - val_loss: 0.1244 - val_accuracy: 0.8314\n",
            "Epoch 2/20\n",
            "30/30 [==============================] - 1s 26ms/step - loss: 0.0862 - accuracy: 0.8903 - val_loss: 0.0880 - val_accuracy: 0.8816\n",
            "Epoch 3/20\n",
            "30/30 [==============================] - 1s 23ms/step - loss: 0.0634 - accuracy: 0.9173 - val_loss: 0.0839 - val_accuracy: 0.8835\n",
            "Epoch 4/20\n",
            "30/30 [==============================] - 1s 22ms/step - loss: 0.0476 - accuracy: 0.9402 - val_loss: 0.0898 - val_accuracy: 0.8782\n",
            "Epoch 5/20\n",
            "30/30 [==============================] - 1s 20ms/step - loss: 0.0381 - accuracy: 0.9544 - val_loss: 0.0904 - val_accuracy: 0.8822\n",
            "Epoch 6/20\n",
            "30/30 [==============================] - 1s 22ms/step - loss: 0.0356 - accuracy: 0.9567 - val_loss: 0.0930 - val_accuracy: 0.8806\n",
            "Epoch 7/20\n",
            "30/30 [==============================] - 1s 21ms/step - loss: 0.0284 - accuracy: 0.9671 - val_loss: 0.0956 - val_accuracy: 0.8788\n",
            "Epoch 8/20\n",
            "30/30 [==============================] - 1s 21ms/step - loss: 0.0245 - accuracy: 0.9710 - val_loss: 0.0994 - val_accuracy: 0.8772\n",
            "Epoch 9/20\n",
            "30/30 [==============================] - 1s 27ms/step - loss: 0.0217 - accuracy: 0.9763 - val_loss: 0.1010 - val_accuracy: 0.8778\n",
            "Epoch 10/20\n",
            "30/30 [==============================] - 1s 21ms/step - loss: 0.0196 - accuracy: 0.9785 - val_loss: 0.1058 - val_accuracy: 0.8741\n",
            "Epoch 11/20\n",
            "30/30 [==============================] - 1s 23ms/step - loss: 0.0182 - accuracy: 0.9803 - val_loss: 0.1098 - val_accuracy: 0.8682\n",
            "Epoch 12/20\n",
            "30/30 [==============================] - 1s 22ms/step - loss: 0.0191 - accuracy: 0.9780 - val_loss: 0.1065 - val_accuracy: 0.8746\n",
            "Epoch 13/20\n",
            "30/30 [==============================] - 1s 23ms/step - loss: 0.0165 - accuracy: 0.9817 - val_loss: 0.1073 - val_accuracy: 0.8745\n",
            "Epoch 14/20\n",
            "30/30 [==============================] - 1s 27ms/step - loss: 0.0171 - accuracy: 0.9809 - val_loss: 0.1086 - val_accuracy: 0.8746\n",
            "Epoch 15/20\n",
            "30/30 [==============================] - 1s 27ms/step - loss: 0.0143 - accuracy: 0.9843 - val_loss: 0.1097 - val_accuracy: 0.8733\n",
            "Epoch 16/20\n",
            "30/30 [==============================] - 1s 21ms/step - loss: 0.0134 - accuracy: 0.9853 - val_loss: 0.1134 - val_accuracy: 0.8694\n",
            "Epoch 17/20\n",
            "30/30 [==============================] - 1s 27ms/step - loss: 0.0159 - accuracy: 0.9825 - val_loss: 0.1102 - val_accuracy: 0.8739\n",
            "Epoch 18/20\n",
            "30/30 [==============================] - 1s 30ms/step - loss: 0.0095 - accuracy: 0.9907 - val_loss: 0.1199 - val_accuracy: 0.8642\n",
            "Epoch 19/20\n",
            "30/30 [==============================] - 1s 24ms/step - loss: 0.0127 - accuracy: 0.9861 - val_loss: 0.1147 - val_accuracy: 0.8706\n",
            "Epoch 20/20\n",
            "30/30 [==============================] - 1s 28ms/step - loss: 0.0087 - accuracy: 0.9917 - val_loss: 0.1130 - val_accuracy: 0.8723\n"
          ]
        }
      ]
    },
    {
      "cell_type": "code",
      "source": [
        "history_dict_3 = history_2.history\n",
        "history_dict_3.keys()"
      ],
      "metadata": {
        "colab": {
          "base_uri": "https://localhost:8080/"
        },
        "id": "h3HSlp3FD5qd",
        "outputId": "2c1177b4-776e-4a8f-a8d7-05fd4b5b2836"
      },
      "execution_count": 83,
      "outputs": [
        {
          "output_type": "execute_result",
          "data": {
            "text/plain": [
              "dict_keys(['loss', 'accuracy', 'val_loss', 'val_accuracy'])"
            ]
          },
          "metadata": {},
          "execution_count": 83
        }
      ]
    },
    {
      "cell_type": "code",
      "source": [
        "loss_values = history_dict_3[\"loss\"]\n",
        "val_loss_values = history_dict_3[\"val_loss\"]\n",
        "epochs = range(1, len(loss_values) + 1)\n",
        "plt.plot(epochs, loss_values, \"grey\", label=\"Training loss\")\n",
        "plt.plot(epochs, val_loss_values, \"green\", label=\"Validation loss\")\n",
        "plt.title(\"Training and validation loss\")\n",
        "plt.xlabel(\"Epochs\")\n",
        "plt.ylabel(\"Loss\")\n",
        "plt.legend()\n",
        "plt.show()"
      ],
      "metadata": {
        "colab": {
          "base_uri": "https://localhost:8080/",
          "height": 295
        },
        "id": "v35ZZB29EILQ",
        "outputId": "b1991c2d-b77c-4124-b2e6-c9d6873a2cfa"
      },
      "execution_count": 84,
      "outputs": [
        {
          "output_type": "display_data",
          "data": {
            "text/plain": [
              "<Figure size 432x288 with 1 Axes>"
            ],
            "image/png": "[encoded data removed]"
          },
          "metadata": {
            "needs_background": "light"
          }
        }
      ]
    },
    {
      "cell_type": "code",
      "source": [
        "plt.clf()\n",
        "acc = history_dict_3[\"accuracy\"]\n",
        "val_acc = history_dict_3[\"val_accuracy\"]\n",
        "plt.plot(epochs, acc, \"grey\", label=\"Training acc\")\n",
        "plt.plot(epochs, val_acc, \"green\", label=\"Validation acc\")\n",
        "plt.title(\"Training and validation accuracy\")\n",
        "plt.xlabel(\"Epochs\")\n",
        "plt.ylabel(\"Accuracy\")\n",
        "plt.legend()\n",
        "plt.show()"
      ],
      "metadata": {
        "colab": {
          "base_uri": "https://localhost:8080/",
          "height": 295
        },
        "id": "sAcdemhEEmIz",
        "outputId": "db94a447-6a1e-4b40-d453-22bf889f8513"
      },
      "execution_count": 85,
      "outputs": [
        {
          "output_type": "display_data",
          "data": {
            "text/plain": [
              "<Figure size 432x288 with 1 Axes>"
            ],
            "image/png": "[encoded data removed]"
          },
          "metadata": {
            "needs_background": "light"
          }
        }
      ]
    },
    {
      "cell_type": "code",
      "source": [
        "np.random.seed(333)\n",
        "model_3 = keras.Sequential([\n",
        "    layers.Dense(16, activation=\"tanh\"),\n",
        "    layers.Dense(16, activation=\"tanh\"),\n",
        "    layers.Dense(16, activation=\"tanh\"),\n",
        "    layers.Dense(1, activation=\"sigmoid\")\n",
        "])\n",
        "\n",
        "\n",
        "model_3.compile(optimizer='rmsprop',\n",
        "              loss='mse',\n",
        "              metrics=['accuracy'])\n",
        "\n",
        "model_3.fit(x_train, y_train, epochs=3, batch_size=512)\n",
        "results_3 = model_3.evaluate(x_test, y_test)"
      ],
      "metadata": {
        "colab": {
          "base_uri": "https://localhost:8080/"
        },
        "id": "oYBbVfS3EzcS",
        "outputId": "21e7b6bb-dbee-43b7-9ed3-7ca59c0a4bfc"
      },
      "execution_count": 86,
      "outputs": [
        {
          "output_type": "stream",
          "name": "stdout",
          "text": [
            "Epoch 1/3\n",
            "49/49 [==============================] - 1s 15ms/step - loss: 0.1444 - accuracy: 0.8129\n",
            "Epoch 2/3\n",
            "49/49 [==============================] - 1s 16ms/step - loss: 0.0750 - accuracy: 0.9024\n",
            "Epoch 3/3\n",
            "49/49 [==============================] - 1s 15ms/step - loss: 0.0594 - accuracy: 0.9224\n",
            "782/782 [==============================] - 2s 2ms/step - loss: 0.1004 - accuracy: 0.8661\n"
          ]
        }
      ]
    },
    {
      "cell_type": "code",
      "source": [
        "results_3"
      ],
      "metadata": {
        "id": "cIzrkloPF3kC",
        "colab": {
          "base_uri": "https://localhost:8080/"
        },
        "outputId": "b5380513-c8d8-4d00-c215-13e4d03f76d5"
      },
      "execution_count": 87,
      "outputs": [
        {
          "output_type": "execute_result",
          "data": {
            "text/plain": [
              "[0.10044776648283005, 0.8660799860954285]"
            ]
          },
          "metadata": {},
          "execution_count": 87
        }
      ]
    },
    {
      "cell_type": "code",
      "source": [
        "model_3.predict(x_test)"
      ],
      "metadata": {
        "id": "fsAWD3zYF7-p",
        "colab": {
          "base_uri": "https://localhost:8080/"
        },
        "outputId": "62d86646-c750-40c3-b1a7-ae20f82324ce"
      },
      "execution_count": 88,
      "outputs": [
        {
          "output_type": "stream",
          "name": "stdout",
          "text": [
            "782/782 [==============================] - 2s 2ms/step\n"
          ]
        },
        {
          "output_type": "execute_result",
          "data": {
            "text/plain": [
              "array([[0.20131122],\n",
              "       [0.99118525],\n",
              "       [0.98341435],\n",
              "       ...,\n",
              "       [0.16633241],\n",
              "       [0.09122287],\n",
              "       [0.49122518]], dtype=float32)"
            ]
          },
          "metadata": {},
          "execution_count": 88
        }
      ]
    },
    {
      "cell_type": "markdown",
      "source": [
        "**MODEL-4**"
      ],
      "metadata": {
        "id": "w4m_1lUtyW0U"
      }
    },
    {
      "cell_type": "code",
      "source": [
        "np.random.seed(444)\n",
        "model_32 = keras.Sequential([\n",
        "    layers.Dense(32, activation=\"tanh\"),\n",
        "    layers.Dense(32, activation=\"tanh\"),\n",
        "    layers.Dense(1, activation=\"sigmoid\")\n",
        "])\n",
        "#compiling the model\n",
        "model_32.compile(optimizer=\"rmsprop\",\n",
        "              loss=\"mse\",\n",
        "              metrics=[\"accuracy\"])\n",
        "# validating the model\n",
        "x_val = x_train[:10000]\n",
        "partial_x_train = x_train[10000:]\n",
        "\n",
        "y_val = y_train[:10000]\n",
        "partial_y_train = y_train[10000:]\n",
        "\n",
        "#Model fit\n",
        "np.random.seed(444)\n",
        "history_32 = model_32.fit(partial_x_train,\n",
        "                    partial_y_train,\n",
        "                    epochs=20,\n",
        "                    batch_size=512,\n",
        "                    validation_data=(x_val, y_val))"
      ],
      "metadata": {
        "id": "lPFcanVfGtTO",
        "colab": {
          "base_uri": "https://localhost:8080/"
        },
        "outputId": "9c624154-9ceb-4bde-ede9-15909cc1fa24"
      },
      "execution_count": 89,
      "outputs": [
        {
          "output_type": "stream",
          "name": "stdout",
          "text": [
            "Epoch 1/20\n",
            "30/30 [==============================] - 3s 73ms/step - loss: 0.1675 - accuracy: 0.7697 - val_loss: 0.1201 - val_accuracy: 0.8451\n",
            "Epoch 2/20\n",
            "30/30 [==============================] - 1s 26ms/step - loss: 0.0913 - accuracy: 0.8861 - val_loss: 0.1038 - val_accuracy: 0.8551\n",
            "Epoch 3/20\n",
            "30/30 [==============================] - 1s 25ms/step - loss: 0.0682 - accuracy: 0.9120 - val_loss: 0.0952 - val_accuracy: 0.8689\n",
            "Epoch 4/20\n",
            "30/30 [==============================] - 1s 31ms/step - loss: 0.0565 - accuracy: 0.9297 - val_loss: 0.1438 - val_accuracy: 0.8083\n",
            "Epoch 5/20\n",
            "30/30 [==============================] - 1s 30ms/step - loss: 0.0455 - accuracy: 0.9454 - val_loss: 0.0925 - val_accuracy: 0.8776\n",
            "Epoch 6/20\n",
            "30/30 [==============================] - 1s 25ms/step - loss: 0.0422 - accuracy: 0.9496 - val_loss: 0.0879 - val_accuracy: 0.8807\n",
            "Epoch 7/20\n",
            "30/30 [==============================] - 1s 28ms/step - loss: 0.0328 - accuracy: 0.9621 - val_loss: 0.1104 - val_accuracy: 0.8578\n",
            "Epoch 8/20\n",
            "30/30 [==============================] - 1s 26ms/step - loss: 0.0325 - accuracy: 0.9613 - val_loss: 0.0953 - val_accuracy: 0.8769\n",
            "Epoch 9/20\n",
            "30/30 [==============================] - 1s 34ms/step - loss: 0.0262 - accuracy: 0.9706 - val_loss: 0.0958 - val_accuracy: 0.8772\n",
            "Epoch 10/20\n",
            "30/30 [==============================] - 1s 31ms/step - loss: 0.0237 - accuracy: 0.9739 - val_loss: 0.0978 - val_accuracy: 0.8773\n",
            "Epoch 11/20\n",
            "30/30 [==============================] - 1s 29ms/step - loss: 0.0218 - accuracy: 0.9770 - val_loss: 0.1006 - val_accuracy: 0.8747\n",
            "Epoch 12/20\n",
            "30/30 [==============================] - 1s 25ms/step - loss: 0.0197 - accuracy: 0.9785 - val_loss: 0.1024 - val_accuracy: 0.8758\n",
            "Epoch 13/20\n",
            "30/30 [==============================] - 1s 26ms/step - loss: 0.0189 - accuracy: 0.9795 - val_loss: 0.1036 - val_accuracy: 0.8741\n",
            "Epoch 14/20\n",
            "30/30 [==============================] - 1s 25ms/step - loss: 0.0169 - accuracy: 0.9815 - val_loss: 0.1054 - val_accuracy: 0.8710\n",
            "Epoch 15/20\n",
            "30/30 [==============================] - 1s 26ms/step - loss: 0.0161 - accuracy: 0.9832 - val_loss: 0.1063 - val_accuracy: 0.8726\n",
            "Epoch 16/20\n",
            "30/30 [==============================] - 1s 30ms/step - loss: 0.0154 - accuracy: 0.9835 - val_loss: 0.1058 - val_accuracy: 0.8739\n",
            "Epoch 17/20\n",
            "30/30 [==============================] - 1s 25ms/step - loss: 0.0156 - accuracy: 0.9833 - val_loss: 0.1059 - val_accuracy: 0.8748\n",
            "Epoch 18/20\n",
            "30/30 [==============================] - 1s 26ms/step - loss: 0.0152 - accuracy: 0.9827 - val_loss: 0.1069 - val_accuracy: 0.8736\n",
            "Epoch 19/20\n",
            "30/30 [==============================] - 1s 25ms/step - loss: 0.0087 - accuracy: 0.9920 - val_loss: 0.1073 - val_accuracy: 0.8744\n",
            "Epoch 20/20\n",
            "30/30 [==============================] - 1s 25ms/step - loss: 0.0160 - accuracy: 0.9823 - val_loss: 0.1073 - val_accuracy: 0.8744\n"
          ]
        }
      ]
    },
    {
      "cell_type": "code",
      "source": [
        "history_dict_32 = history_32.history\n",
        "history_dict_32.keys()"
      ],
      "metadata": {
        "id": "ap__FUfHG_Zm",
        "colab": {
          "base_uri": "https://localhost:8080/"
        },
        "outputId": "34f9fac4-f66d-4ced-b25c-2b9db558a92f"
      },
      "execution_count": 90,
      "outputs": [
        {
          "output_type": "execute_result",
          "data": {
            "text/plain": [
              "dict_keys(['loss', 'accuracy', 'val_loss', 'val_accuracy'])"
            ]
          },
          "metadata": {},
          "execution_count": 90
        }
      ]
    },
    {
      "cell_type": "code",
      "source": [
        "loss_values = history_dict_32[\"loss\"]\n",
        "val_loss_values = history_dict_32[\"val_loss\"]\n",
        "epochs = range(1, len(loss_values) + 1)\n",
        "plt.plot(epochs, loss_values, \"grey\", label=\"Training loss\")\n",
        "plt.plot(epochs, val_loss_values, \"blue\", label=\"Validation loss\")\n",
        "plt.title(\"Training and validation loss\")\n",
        "plt.xlabel(\"Epochs\")\n",
        "plt.ylabel(\"Loss\")\n",
        "plt.legend()\n",
        "plt.show()"
      ],
      "metadata": {
        "id": "Q0DCxcD3HOit",
        "colab": {
          "base_uri": "https://localhost:8080/",
          "height": 295
        },
        "outputId": "4821a801-70d8-4901-900d-1bf943574212"
      },
      "execution_count": 91,
      "outputs": [
        {
          "output_type": "display_data",
          "data": {
            "text/plain": [
              "<Figure size 432x288 with 1 Axes>"
            ],
            "image/png": "[encoded data removed]"
          },
          "metadata": {
            "needs_background": "light"
          }
        }
      ]
    },
    {
      "cell_type": "code",
      "source": [
        "\n",
        "plt.clf()\n",
        "acc = history_dict_32[\"accuracy\"]\n",
        "val_acc = history_dict_32[\"val_accuracy\"]\n",
        "plt.plot(epochs, acc, \"grey\", label=\"Training acc\")\n",
        "plt.plot(epochs, val_acc, \"blue\", label=\"Validation acc\")\n",
        "plt.title(\"Training and validation accuracy\")\n",
        "plt.xlabel(\"Epochs\")\n",
        "plt.ylabel(\"Accuracy\")\n",
        "plt.legend()\n",
        "plt.show()"
      ],
      "metadata": {
        "id": "eUzjcrXdHdOy",
        "colab": {
          "base_uri": "https://localhost:8080/",
          "height": 295
        },
        "outputId": "eb00a711-1322-45bc-95d9-0363861492c2"
      },
      "execution_count": 92,
      "outputs": [
        {
          "output_type": "display_data",
          "data": {
            "text/plain": [
              "<Figure size 432x288 with 1 Axes>"
            ],
            "image/png": "[encoded data removed]"
          },
          "metadata": {
            "needs_background": "light"
          }
        }
      ]
    },
    {
      "cell_type": "code",
      "source": [
        "history_32 = model_32.fit(x_train, y_train, epochs=3, batch_size=512)\n",
        "results_32 = model_32.evaluate(x_test, y_test)\n",
        "results_32"
      ],
      "metadata": {
        "id": "zW0_DkvvHpp7",
        "colab": {
          "base_uri": "https://localhost:8080/"
        },
        "outputId": "8f8535cd-27cf-4ba4-f876-5a9dee936dec"
      },
      "execution_count": 93,
      "outputs": [
        {
          "output_type": "stream",
          "name": "stdout",
          "text": [
            "Epoch 1/3\n",
            "49/49 [==============================] - 1s 20ms/step - loss: 0.0516 - accuracy: 0.9404\n",
            "Epoch 2/3\n",
            "49/49 [==============================] - 1s 23ms/step - loss: 0.0433 - accuracy: 0.9506\n",
            "Epoch 3/3\n",
            "49/49 [==============================] - 1s 24ms/step - loss: 0.0379 - accuracy: 0.9565\n",
            "782/782 [==============================] - 2s 2ms/step - loss: 0.1125 - accuracy: 0.8670\n"
          ]
        },
        {
          "output_type": "execute_result",
          "data": {
            "text/plain": [
              "[0.11248872429132462, 0.8669999837875366]"
            ]
          },
          "metadata": {},
          "execution_count": 93
        }
      ]
    },
    {
      "cell_type": "code",
      "source": [
        "model_32.predict(x_test)"
      ],
      "metadata": {
        "id": "JSSzCcebHtlz",
        "colab": {
          "base_uri": "https://localhost:8080/"
        },
        "outputId": "f7ad3a13-930d-42a6-d8ab-4d9598ec42bd"
      },
      "execution_count": 94,
      "outputs": [
        {
          "output_type": "stream",
          "name": "stdout",
          "text": [
            "782/782 [==============================] - 2s 2ms/step\n"
          ]
        },
        {
          "output_type": "execute_result",
          "data": {
            "text/plain": [
              "array([[0.00212105],\n",
              "       [0.9999856 ],\n",
              "       [0.956947  ],\n",
              "       ...,\n",
              "       [0.01290561],\n",
              "       [0.0102308 ],\n",
              "       [0.7700529 ]], dtype=float32)"
            ]
          },
          "metadata": {},
          "execution_count": 94
        }
      ]
    },
    {
      "cell_type": "markdown",
      "source": [
        "**MODEL-5**"
      ],
      "metadata": {
        "id": "999qZIiByfln"
      }
    },
    {
      "cell_type": "code",
      "source": [
        "np.random.seed(555)\n",
        "model_64 = keras.Sequential([\n",
        "    layers.Dense(64, activation=\"tanh\"),\n",
        "    layers.Dense(64, activation=\"tanh\"),\n",
        "    layers.Dense(1, activation=\"sigmoid\")\n",
        "])\n",
        "model_64.compile(optimizer=\"rmsprop\",\n",
        "              loss=\"mse\",\n",
        "              metrics=[\"accuracy\"])\n",
        "# validation\n",
        "x_val = x_train[:10000]\n",
        "partial_x_train = x_train[10000:]\n",
        "\n",
        "y_val = y_train[:10000]\n",
        "partial_y_train = y_train[10000:]\n",
        "\n",
        "np.random.seed(123)\n",
        "history_64 = model_64.fit(partial_x_train,\n",
        "                    partial_y_train,\n",
        "                    epochs=20,\n",
        "                    batch_size=512,\n",
        "                    validation_data=(x_val, y_val))"
      ],
      "metadata": {
        "id": "prs8Wu3kIOEg",
        "colab": {
          "base_uri": "https://localhost:8080/"
        },
        "outputId": "52c8f5aa-eca0-4c03-ba21-ed15d42d2b6e"
      },
      "execution_count": 95,
      "outputs": [
        {
          "output_type": "stream",
          "name": "stdout",
          "text": [
            "Epoch 1/20\n",
            "30/30 [==============================] - 2s 57ms/step - loss: 0.1634 - accuracy: 0.7693 - val_loss: 0.1135 - val_accuracy: 0.8493\n",
            "Epoch 2/20\n",
            "30/30 [==============================] - 1s 37ms/step - loss: 0.0861 - accuracy: 0.8911 - val_loss: 0.0845 - val_accuracy: 0.8890\n",
            "Epoch 3/20\n",
            "30/30 [==============================] - 1s 43ms/step - loss: 0.0692 - accuracy: 0.9091 - val_loss: 0.0995 - val_accuracy: 0.8651\n",
            "Epoch 4/20\n",
            "30/30 [==============================] - 1s 46ms/step - loss: 0.0552 - accuracy: 0.9307 - val_loss: 0.1064 - val_accuracy: 0.8578\n",
            "Epoch 5/20\n",
            "30/30 [==============================] - 1s 39ms/step - loss: 0.0513 - accuracy: 0.9332 - val_loss: 0.0882 - val_accuracy: 0.8806\n",
            "Epoch 6/20\n",
            "30/30 [==============================] - 1s 36ms/step - loss: 0.0404 - accuracy: 0.9494 - val_loss: 0.0939 - val_accuracy: 0.8739\n",
            "Epoch 7/20\n",
            "30/30 [==============================] - 1s 37ms/step - loss: 0.0405 - accuracy: 0.9485 - val_loss: 0.0916 - val_accuracy: 0.8807\n",
            "Epoch 8/20\n",
            "30/30 [==============================] - 1s 38ms/step - loss: 0.0315 - accuracy: 0.9619 - val_loss: 0.0985 - val_accuracy: 0.8715\n",
            "Epoch 9/20\n",
            "30/30 [==============================] - 1s 37ms/step - loss: 0.0325 - accuracy: 0.9603 - val_loss: 0.0994 - val_accuracy: 0.8774\n",
            "Epoch 10/20\n",
            "30/30 [==============================] - 1s 36ms/step - loss: 0.0259 - accuracy: 0.9701 - val_loss: 0.1071 - val_accuracy: 0.8657\n",
            "Epoch 11/20\n",
            "30/30 [==============================] - 1s 36ms/step - loss: 0.0237 - accuracy: 0.9729 - val_loss: 0.1198 - val_accuracy: 0.8569\n",
            "Epoch 12/20\n",
            "30/30 [==============================] - 1s 36ms/step - loss: 0.0236 - accuracy: 0.9731 - val_loss: 0.1021 - val_accuracy: 0.8764\n",
            "Epoch 13/20\n",
            "30/30 [==============================] - 1s 36ms/step - loss: 0.0210 - accuracy: 0.9761 - val_loss: 0.1035 - val_accuracy: 0.8738\n",
            "Epoch 14/20\n",
            "30/30 [==============================] - 1s 42ms/step - loss: 0.0180 - accuracy: 0.9810 - val_loss: 0.1058 - val_accuracy: 0.8720\n",
            "Epoch 15/20\n",
            "30/30 [==============================] - 1s 45ms/step - loss: 0.0185 - accuracy: 0.9798 - val_loss: 0.1056 - val_accuracy: 0.8738\n",
            "Epoch 16/20\n",
            "30/30 [==============================] - 1s 36ms/step - loss: 0.0162 - accuracy: 0.9828 - val_loss: 0.1072 - val_accuracy: 0.8740\n",
            "Epoch 17/20\n",
            "30/30 [==============================] - 1s 37ms/step - loss: 0.0160 - accuracy: 0.9829 - val_loss: 0.1121 - val_accuracy: 0.8683\n",
            "Epoch 18/20\n",
            "30/30 [==============================] - 1s 36ms/step - loss: 0.0159 - accuracy: 0.9825 - val_loss: 0.1079 - val_accuracy: 0.8742\n",
            "Epoch 19/20\n",
            "30/30 [==============================] - 1s 37ms/step - loss: 0.0152 - accuracy: 0.9832 - val_loss: 0.1179 - val_accuracy: 0.8638\n",
            "Epoch 20/20\n",
            "30/30 [==============================] - 1s 36ms/step - loss: 0.0096 - accuracy: 0.9907 - val_loss: 0.1137 - val_accuracy: 0.8689\n"
          ]
        }
      ]
    },
    {
      "cell_type": "code",
      "source": [
        "history_dict_64 = history_64.history\n",
        "history_dict_64.keys()"
      ],
      "metadata": {
        "id": "OSqXIITTIbSv",
        "colab": {
          "base_uri": "https://localhost:8080/"
        },
        "outputId": "4d4728ba-64da-4983-90ed-ce1946bd519d"
      },
      "execution_count": 96,
      "outputs": [
        {
          "output_type": "execute_result",
          "data": {
            "text/plain": [
              "dict_keys(['loss', 'accuracy', 'val_loss', 'val_accuracy'])"
            ]
          },
          "metadata": {},
          "execution_count": 96
        }
      ]
    },
    {
      "cell_type": "code",
      "source": [
        "loss_values = history_dict_64[\"loss\"]\n",
        "val_loss_values = history_dict_64[\"val_loss\"]\n",
        "epochs = range(1, len(loss_values) + 1)\n",
        "plt.plot(epochs, loss_values, \"grey\", label=\"Training loss\")\n",
        "plt.plot(epochs, val_loss_values, \"red\", label=\"Validation loss\")\n",
        "plt.title(\"Training and validation loss\")\n",
        "plt.xlabel(\"Epochs\")\n",
        "plt.ylabel(\"Loss\")\n",
        "plt.legend()\n",
        "plt.show()"
      ],
      "metadata": {
        "id": "G4iLvg5lIxpl",
        "colab": {
          "base_uri": "https://localhost:8080/",
          "height": 295
        },
        "outputId": "afd393dc-c128-4f93-967b-19e4a33c0d54"
      },
      "execution_count": 97,
      "outputs": [
        {
          "output_type": "display_data",
          "data": {
            "text/plain": [
              "<Figure size 432x288 with 1 Axes>"
            ],
            "image/png": "[encoded data removed]"
          },
          "metadata": {
            "needs_background": "light"
          }
        }
      ]
    },
    {
      "cell_type": "code",
      "source": [
        "plt.clf()\n",
        "acc = history_dict_64[\"accuracy\"]\n",
        "val_acc = history_dict_64[\"val_accuracy\"]\n",
        "plt.plot(epochs, acc, \"grey\", label=\"Training acc\")\n",
        "plt.plot(epochs, val_acc, \"red\", label=\"Validation acc\")\n",
        "plt.title(\"Training and validation accuracy\")\n",
        "plt.xlabel(\"Epochs\")\n",
        "plt.ylabel(\"Accuracy\")\n",
        "plt.legend()\n",
        "plt.show()"
      ],
      "metadata": {
        "id": "AYheTmh5I6hM",
        "colab": {
          "base_uri": "https://localhost:8080/",
          "height": 295
        },
        "outputId": "6576cf03-7cab-40d2-88a9-68ba532aa571"
      },
      "execution_count": 98,
      "outputs": [
        {
          "output_type": "display_data",
          "data": {
            "text/plain": [
              "<Figure size 432x288 with 1 Axes>"
            ],
            "image/png": "[encoded data removed]"
          },
          "metadata": {
            "needs_background": "light"
          }
        }
      ]
    },
    {
      "cell_type": "code",
      "source": [
        "history_64 = model_64.fit(x_train, y_train, epochs=3, batch_size=512)\n",
        "results_64 = model_64.evaluate(x_test, y_test)\n",
        "results_64"
      ],
      "metadata": {
        "id": "TKMUTcd5JAfi",
        "colab": {
          "base_uri": "https://localhost:8080/"
        },
        "outputId": "28ec1cf8-c669-4d91-adff-f9bfdc83ecbc"
      },
      "execution_count": 99,
      "outputs": [
        {
          "output_type": "stream",
          "name": "stdout",
          "text": [
            "Epoch 1/3\n",
            "49/49 [==============================] - 1s 28ms/step - loss: 0.0559 - accuracy: 0.9350\n",
            "Epoch 2/3\n",
            "49/49 [==============================] - 1s 27ms/step - loss: 0.0446 - accuracy: 0.9488\n",
            "Epoch 3/3\n",
            "49/49 [==============================] - 1s 27ms/step - loss: 0.0411 - accuracy: 0.9523\n",
            "782/782 [==============================] - 2s 3ms/step - loss: 0.1156 - accuracy: 0.8632\n"
          ]
        },
        {
          "output_type": "execute_result",
          "data": {
            "text/plain": [
              "[0.11556952446699142, 0.8632400035858154]"
            ]
          },
          "metadata": {},
          "execution_count": 99
        }
      ]
    },
    {
      "cell_type": "code",
      "source": [
        "model_64.predict(x_test)"
      ],
      "metadata": {
        "id": "iI-entKbJDZP",
        "colab": {
          "base_uri": "https://localhost:8080/"
        },
        "outputId": "ff5a6cb5-4dd5-45e4-e474-0011bd237adf"
      },
      "execution_count": 100,
      "outputs": [
        {
          "output_type": "stream",
          "name": "stdout",
          "text": [
            "782/782 [==============================] - 2s 3ms/step\n"
          ]
        },
        {
          "output_type": "execute_result",
          "data": {
            "text/plain": [
              "array([[0.00204152],\n",
              "       [0.9999997 ],\n",
              "       [0.9666541 ],\n",
              "       ...,\n",
              "       [0.11421378],\n",
              "       [0.00843984],\n",
              "       [0.9436339 ]], dtype=float32)"
            ]
          },
          "metadata": {},
          "execution_count": 100
        }
      ]
    },
    {
      "cell_type": "code",
      "source": [
        "np.random.seed(666)\n",
        "model_Dropout = keras.Sequential([\n",
        "    layers.Dense(16, activation=\"tanh\"),\n",
        "    layers.Dropout(0.5),\n",
        "    layers.Dense(16, activation=\"tanh\"),\n",
        "    layers.Dropout(0.5),\n",
        "    layers.Dense(1, activation=\"sigmoid\")\n",
        "])\n",
        "model_Dropout.compile(optimizer=\"rmsprop\",\n",
        "              loss=\"mse\",\n",
        "              metrics=[\"accuracy\"])\n",
        "np.random.seed(666)\n",
        "history_model_Dropout = model_Dropout.fit(partial_x_train,\n",
        "                    partial_y_train,\n",
        "                    epochs=20,\n",
        "                    batch_size=512,\n",
        "                    validation_data=(x_val, y_val))\n",
        "history_dict_Dropout = history_model_Dropout.history\n",
        "history_dict_Dropout.keys()"
      ],
      "metadata": {
        "id": "4Sh-BQBZMiIq",
        "colab": {
          "base_uri": "https://localhost:8080/"
        },
        "outputId": "ec24576b-961c-4d6b-e30c-fb1c6251b620"
      },
      "execution_count": 101,
      "outputs": [
        {
          "output_type": "stream",
          "name": "stdout",
          "text": [
            "Epoch 1/20\n",
            "30/30 [==============================] - 2s 41ms/step - loss: 0.1936 - accuracy: 0.7217 - val_loss: 0.1299 - val_accuracy: 0.8617\n",
            "Epoch 2/20\n",
            "30/30 [==============================] - 1s 20ms/step - loss: 0.1205 - accuracy: 0.8601 - val_loss: 0.0967 - val_accuracy: 0.8800\n",
            "Epoch 3/20\n",
            "30/30 [==============================] - 1s 27ms/step - loss: 0.0909 - accuracy: 0.8973 - val_loss: 0.0857 - val_accuracy: 0.8879\n",
            "Epoch 4/20\n",
            "30/30 [==============================] - 1s 22ms/step - loss: 0.0737 - accuracy: 0.9140 - val_loss: 0.0829 - val_accuracy: 0.8868\n",
            "Epoch 5/20\n",
            "30/30 [==============================] - 1s 22ms/step - loss: 0.0615 - accuracy: 0.9286 - val_loss: 0.0854 - val_accuracy: 0.8839\n",
            "Epoch 6/20\n",
            "30/30 [==============================] - 1s 21ms/step - loss: 0.0541 - accuracy: 0.9374 - val_loss: 0.0912 - val_accuracy: 0.8770\n",
            "Epoch 7/20\n",
            "30/30 [==============================] - 1s 21ms/step - loss: 0.0463 - accuracy: 0.9454 - val_loss: 0.0902 - val_accuracy: 0.8795\n",
            "Epoch 8/20\n",
            "30/30 [==============================] - 1s 21ms/step - loss: 0.0427 - accuracy: 0.9496 - val_loss: 0.0964 - val_accuracy: 0.8737\n",
            "Epoch 9/20\n",
            "30/30 [==============================] - 1s 22ms/step - loss: 0.0364 - accuracy: 0.9588 - val_loss: 0.0967 - val_accuracy: 0.8766\n",
            "Epoch 10/20\n",
            "30/30 [==============================] - 1s 27ms/step - loss: 0.0342 - accuracy: 0.9610 - val_loss: 0.0975 - val_accuracy: 0.8752\n",
            "Epoch 11/20\n",
            "30/30 [==============================] - 1s 22ms/step - loss: 0.0321 - accuracy: 0.9626 - val_loss: 0.0943 - val_accuracy: 0.8815\n",
            "Epoch 12/20\n",
            "30/30 [==============================] - 1s 27ms/step - loss: 0.0284 - accuracy: 0.9675 - val_loss: 0.0947 - val_accuracy: 0.8812\n",
            "Epoch 13/20\n",
            "30/30 [==============================] - 1s 27ms/step - loss: 0.0257 - accuracy: 0.9713 - val_loss: 0.0977 - val_accuracy: 0.8778\n",
            "Epoch 14/20\n",
            "30/30 [==============================] - 1s 31ms/step - loss: 0.0247 - accuracy: 0.9724 - val_loss: 0.1054 - val_accuracy: 0.8730\n",
            "Epoch 15/20\n",
            "30/30 [==============================] - 1s 21ms/step - loss: 0.0242 - accuracy: 0.9724 - val_loss: 0.1007 - val_accuracy: 0.8772\n",
            "Epoch 16/20\n",
            "30/30 [==============================] - 1s 21ms/step - loss: 0.0240 - accuracy: 0.9723 - val_loss: 0.1029 - val_accuracy: 0.8768\n",
            "Epoch 17/20\n",
            "30/30 [==============================] - 1s 21ms/step - loss: 0.0209 - accuracy: 0.9764 - val_loss: 0.1040 - val_accuracy: 0.8779\n",
            "Epoch 18/20\n",
            "30/30 [==============================] - 1s 21ms/step - loss: 0.0226 - accuracy: 0.9747 - val_loss: 0.1053 - val_accuracy: 0.8776\n",
            "Epoch 19/20\n",
            "30/30 [==============================] - 1s 21ms/step - loss: 0.0180 - accuracy: 0.9812 - val_loss: 0.1102 - val_accuracy: 0.8715\n",
            "Epoch 20/20\n",
            "30/30 [==============================] - 1s 21ms/step - loss: 0.0171 - accuracy: 0.9815 - val_loss: 0.1071 - val_accuracy: 0.8749\n"
          ]
        },
        {
          "output_type": "execute_result",
          "data": {
            "text/plain": [
              "dict_keys(['loss', 'accuracy', 'val_loss', 'val_accuracy'])"
            ]
          },
          "metadata": {},
          "execution_count": 101
        }
      ]
    },
    {
      "cell_type": "code",
      "source": [
        "loss_values = history_dict_Dropout[\"loss\"]\n",
        "val_loss_values = history_dict_Dropout[\"val_loss\"]\n",
        "epochs = range(1, len(loss_values) + 1)\n",
        "plt.plot(epochs, loss_values, \"grey\", label=\"Training loss\")\n",
        "plt.plot(epochs, val_loss_values, \"green\", label=\"Validation loss\")\n",
        "plt.title(\"Training and validation loss\")\n",
        "plt.xlabel(\"Epochs\")\n",
        "plt.ylabel(\"Loss\")\n",
        "plt.legend()\n",
        "plt.show()"
      ],
      "metadata": {
        "id": "_UaAFJ_PMySm",
        "colab": {
          "base_uri": "https://localhost:8080/",
          "height": 295
        },
        "outputId": "a596932f-e026-4965-b060-3feef7c04f1b"
      },
      "execution_count": 102,
      "outputs": [
        {
          "output_type": "display_data",
          "data": {
            "text/plain": [
              "<Figure size 432x288 with 1 Axes>"
            ],
            "image/png": "[encoded data removed]"
          },
          "metadata": {
            "needs_background": "light"
          }
        }
      ]
    },
    {
      "cell_type": "code",
      "source": [
        "plt.clf()\n",
        "acc = history_dict_Dropout[\"accuracy\"]\n",
        "val_acc = history_dict_Dropout[\"val_accuracy\"]\n",
        "plt.plot(epochs, acc, \"grey\", label=\"Training acc\")\n",
        "plt.plot(epochs, val_acc, \"blue\", label=\"Validation acc\")\n",
        "plt.title(\"Training and validation accuracy\")\n",
        "plt.xlabel(\"Epochs\")\n",
        "plt.ylabel(\"Accuracy\")\n",
        "plt.legend()\n",
        "plt.show()"
      ],
      "metadata": {
        "id": "Xq4l0mKcM7kq",
        "colab": {
          "base_uri": "https://localhost:8080/",
          "height": 295
        },
        "outputId": "0c923186-c560-4e29-b40a-f1bfd4c7a3c8"
      },
      "execution_count": 103,
      "outputs": [
        {
          "output_type": "display_data",
          "data": {
            "text/plain": [
              "<Figure size 432x288 with 1 Axes>"
            ],
            "image/png": "[encoded data removed]"
          },
          "metadata": {
            "needs_background": "light"
          }
        }
      ]
    },
    {
      "cell_type": "code",
      "source": [
        "model_Dropout.fit(x_train, y_train, epochs=8, batch_size=512)\n",
        "results_Dropout = model_Dropout.evaluate(x_test, y_test)\n",
        "results_Dropout"
      ],
      "metadata": {
        "id": "i3147DiqNAKh",
        "colab": {
          "base_uri": "https://localhost:8080/"
        },
        "outputId": "2f5a3270-b47d-4358-cd04-a3f1d3d12972"
      },
      "execution_count": 104,
      "outputs": [
        {
          "output_type": "stream",
          "name": "stdout",
          "text": [
            "Epoch 1/8\n",
            "49/49 [==============================] - 1s 17ms/step - loss: 0.0539 - accuracy: 0.9370\n",
            "Epoch 2/8\n",
            "49/49 [==============================] - 1s 17ms/step - loss: 0.0474 - accuracy: 0.9456\n",
            "Epoch 3/8\n",
            "49/49 [==============================] - 1s 16ms/step - loss: 0.0438 - accuracy: 0.9490\n",
            "Epoch 4/8\n",
            "49/49 [==============================] - 1s 16ms/step - loss: 0.0392 - accuracy: 0.9551\n",
            "Epoch 5/8\n",
            "49/49 [==============================] - 1s 16ms/step - loss: 0.0379 - accuracy: 0.9559\n",
            "Epoch 6/8\n",
            "49/49 [==============================] - 1s 17ms/step - loss: 0.0356 - accuracy: 0.9594\n",
            "Epoch 7/8\n",
            "49/49 [==============================] - 1s 19ms/step - loss: 0.0340 - accuracy: 0.9613\n",
            "Epoch 8/8\n",
            "49/49 [==============================] - 1s 19ms/step - loss: 0.0331 - accuracy: 0.9628\n",
            "782/782 [==============================] - 2s 2ms/step - loss: 0.1146 - accuracy: 0.8684\n"
          ]
        },
        {
          "output_type": "execute_result",
          "data": {
            "text/plain": [
              "[0.11460333317518234, 0.8683599829673767]"
            ]
          },
          "metadata": {},
          "execution_count": 104
        }
      ]
    },
    {
      "cell_type": "code",
      "source": [
        "np.random.seed(111)\n",
        "model_Hyper = keras.Sequential([\n",
        "    layers.Dense(32, activation=\"tanh\",kernel_regularizer=regularizers.l2(0.0001)),\n",
        "    layers.Dropout(0.5),    \n",
        "    layers.Dense(32, activation=\"tanh\",kernel_regularizer=regularizers.l2(0.0001)),\n",
        "    layers.Dropout(0.5),\n",
        "    layers.Dense(16, activation=\"tanh\",kernel_regularizer=regularizers.l2(0.0001)),\n",
        "    layers.Dropout(0.5),\n",
        "    layers.Dense(1, activation=\"sigmoid\")\n",
        "])\n",
        "model_Hyper.compile(optimizer=\"rmsprop\",\n",
        "              loss=\"mse\",\n",
        "              metrics=[\"accuracy\"])\n",
        "np.random.seed(123)\n",
        "history_model_Hyper = model_Hyper.fit(partial_x_train,\n",
        "                    partial_y_train,\n",
        "                    epochs=20,\n",
        "                    batch_size=512,\n",
        "                    validation_data=(x_val, y_val))\n",
        "history_dict_Hyper = history_model_Hyper.history\n",
        "history_dict_Hyper.keys()"
      ],
      "metadata": {
        "id": "vEQdTdswNJEJ",
        "colab": {
          "base_uri": "https://localhost:8080/"
        },
        "outputId": "2574dd10-f1bd-40cb-ce92-e7cee46949eb"
      },
      "execution_count": 105,
      "outputs": [
        {
          "output_type": "stream",
          "name": "stdout",
          "text": [
            "Epoch 1/20\n",
            "30/30 [==============================] - 2s 47ms/step - loss: 0.2049 - accuracy: 0.7011 - val_loss: 0.1301 - val_accuracy: 0.8416\n",
            "Epoch 2/20\n",
            "30/30 [==============================] - 1s 26ms/step - loss: 0.1245 - accuracy: 0.8555 - val_loss: 0.1195 - val_accuracy: 0.8518\n",
            "Epoch 3/20\n",
            "30/30 [==============================] - 1s 27ms/step - loss: 0.0955 - accuracy: 0.8963 - val_loss: 0.1063 - val_accuracy: 0.8751\n",
            "Epoch 4/20\n",
            "30/30 [==============================] - 1s 27ms/step - loss: 0.0859 - accuracy: 0.9074 - val_loss: 0.1108 - val_accuracy: 0.8735\n",
            "Epoch 5/20\n",
            "30/30 [==============================] - 1s 27ms/step - loss: 0.0731 - accuracy: 0.9275 - val_loss: 0.1086 - val_accuracy: 0.8783\n",
            "Epoch 6/20\n",
            "30/30 [==============================] - 1s 27ms/step - loss: 0.0696 - accuracy: 0.9303 - val_loss: 0.1045 - val_accuracy: 0.8850\n",
            "Epoch 7/20\n",
            "30/30 [==============================] - 1s 29ms/step - loss: 0.0632 - accuracy: 0.9397 - val_loss: 0.1064 - val_accuracy: 0.8825\n",
            "Epoch 8/20\n",
            "30/30 [==============================] - 1s 35ms/step - loss: 0.0612 - accuracy: 0.9427 - val_loss: 0.1146 - val_accuracy: 0.8737\n",
            "Epoch 9/20\n",
            "30/30 [==============================] - 1s 35ms/step - loss: 0.0545 - accuracy: 0.9511 - val_loss: 0.1127 - val_accuracy: 0.8780\n",
            "Epoch 10/20\n",
            "30/30 [==============================] - 1s 26ms/step - loss: 0.0535 - accuracy: 0.9533 - val_loss: 0.1144 - val_accuracy: 0.8778\n",
            "Epoch 11/20\n",
            "30/30 [==============================] - 1s 26ms/step - loss: 0.0493 - accuracy: 0.9579 - val_loss: 0.1219 - val_accuracy: 0.8711\n",
            "Epoch 12/20\n",
            "30/30 [==============================] - 1s 26ms/step - loss: 0.0497 - accuracy: 0.9581 - val_loss: 0.1186 - val_accuracy: 0.8777\n",
            "Epoch 13/20\n",
            "30/30 [==============================] - 1s 28ms/step - loss: 0.0475 - accuracy: 0.9593 - val_loss: 0.1280 - val_accuracy: 0.8663\n",
            "Epoch 14/20\n",
            "30/30 [==============================] - 1s 27ms/step - loss: 0.0467 - accuracy: 0.9618 - val_loss: 0.1189 - val_accuracy: 0.8762\n",
            "Epoch 15/20\n",
            "30/30 [==============================] - 1s 32ms/step - loss: 0.0435 - accuracy: 0.9658 - val_loss: 0.1252 - val_accuracy: 0.8718\n",
            "Epoch 16/20\n",
            "30/30 [==============================] - 1s 26ms/step - loss: 0.0399 - accuracy: 0.9706 - val_loss: 0.1247 - val_accuracy: 0.8725\n",
            "Epoch 17/20\n",
            "30/30 [==============================] - 1s 32ms/step - loss: 0.0438 - accuracy: 0.9642 - val_loss: 0.1236 - val_accuracy: 0.8748\n",
            "Epoch 18/20\n",
            "30/30 [==============================] - 1s 26ms/step - loss: 0.0420 - accuracy: 0.9673 - val_loss: 0.1237 - val_accuracy: 0.8735\n",
            "Epoch 19/20\n",
            "30/30 [==============================] - 1s 27ms/step - loss: 0.0397 - accuracy: 0.9695 - val_loss: 0.1628 - val_accuracy: 0.8323\n",
            "Epoch 20/20\n",
            "30/30 [==============================] - 1s 26ms/step - loss: 0.0371 - accuracy: 0.9732 - val_loss: 0.1239 - val_accuracy: 0.8743\n"
          ]
        },
        {
          "output_type": "execute_result",
          "data": {
            "text/plain": [
              "dict_keys(['loss', 'accuracy', 'val_loss', 'val_accuracy'])"
            ]
          },
          "metadata": {},
          "execution_count": 105
        }
      ]
    },
    {
      "cell_type": "code",
      "source": [
        "loss_values = history_dict_Hyper[\"loss\"]\n",
        "val_loss_values = history_dict_Hyper[\"val_loss\"]\n",
        "epochs = range(1, len(loss_values) + 1)\n",
        "plt.plot(epochs, loss_values, \"grey\", label=\"Training loss\")\n",
        "plt.plot(epochs, val_loss_values, \"red\", label=\"Validation loss\")\n",
        "plt.title(\"Training and validation loss\")\n",
        "plt.xlabel(\"Epochs\")\n",
        "plt.ylabel(\"Loss\")\n",
        "plt.legend()\n",
        "plt.show()"
      ],
      "metadata": {
        "id": "klgX1Oy9NSSt",
        "colab": {
          "base_uri": "https://localhost:8080/",
          "height": 295
        },
        "outputId": "02ea88f2-701f-4870-e137-648ddf87744c"
      },
      "execution_count": 106,
      "outputs": [
        {
          "output_type": "display_data",
          "data": {
            "text/plain": [
              "<Figure size 432x288 with 1 Axes>"
            ],
            "image/png": "[encoded data removed]"
          },
          "metadata": {
            "needs_background": "light"
          }
        }
      ]
    },
    {
      "cell_type": "code",
      "source": [
        "plt.clf()\n",
        "acc = history_dict_Hyper[\"accuracy\"]\n",
        "val_acc = history_dict_Hyper[\"val_accuracy\"]\n",
        "plt.plot(epochs, acc, \"grey\", label=\"Training acc\")\n",
        "plt.plot(epochs, val_acc, \"green\", label=\"Validation acc\")\n",
        "plt.title(\"Training and validation accuracy\")\n",
        "plt.xlabel(\"Epochs\")\n",
        "plt.ylabel(\"Accuracy\")\n",
        "plt.legend()\n",
        "plt.show()"
      ],
      "metadata": {
        "id": "wIzvCTf_NVLc",
        "colab": {
          "base_uri": "https://localhost:8080/",
          "height": 295
        },
        "outputId": "9076dc81-e3e9-4671-9af2-ee64366e15a2"
      },
      "execution_count": 107,
      "outputs": [
        {
          "output_type": "display_data",
          "data": {
            "text/plain": [
              "<Figure size 432x288 with 1 Axes>"
            ],
            "image/png": "[encoded data removed]"
          },
          "metadata": {
            "needs_background": "light"
          }
        }
      ]
    },
    {
      "cell_type": "code",
      "source": [
        "model_Hyper.fit(x_train, y_train, epochs=8, batch_size=512)\n",
        "results_Hyper = model_Hyper.evaluate(x_test, y_test)\n",
        "results_Hyper"
      ],
      "metadata": {
        "id": "x-SF_XsDNdCo",
        "colab": {
          "base_uri": "https://localhost:8080/"
        },
        "outputId": "7403c6bf-ee48-48e6-90b6-998c0ce151e0"
      },
      "execution_count": 108,
      "outputs": [
        {
          "output_type": "stream",
          "name": "stdout",
          "text": [
            "Epoch 1/8\n",
            "49/49 [==============================] - 1s 24ms/step - loss: 0.0727 - accuracy: 0.9304\n",
            "Epoch 2/8\n",
            "49/49 [==============================] - 1s 20ms/step - loss: 0.0663 - accuracy: 0.9370\n",
            "Epoch 3/8\n",
            "49/49 [==============================] - 1s 21ms/step - loss: 0.0621 - accuracy: 0.9415\n",
            "Epoch 4/8\n",
            "49/49 [==============================] - 1s 20ms/step - loss: 0.0583 - accuracy: 0.9478\n",
            "Epoch 5/8\n",
            "49/49 [==============================] - 1s 20ms/step - loss: 0.0564 - accuracy: 0.9483\n",
            "Epoch 6/8\n",
            "49/49 [==============================] - 1s 20ms/step - loss: 0.0542 - accuracy: 0.9522\n",
            "Epoch 7/8\n",
            "49/49 [==============================] - 1s 20ms/step - loss: 0.0529 - accuracy: 0.9534\n",
            "Epoch 8/8\n",
            "49/49 [==============================] - 1s 20ms/step - loss: 0.0526 - accuracy: 0.9533\n",
            "782/782 [==============================] - 2s 2ms/step - loss: 0.1242 - accuracy: 0.8688\n"
          ]
        },
        {
          "output_type": "execute_result",
          "data": {
            "text/plain": [
              "[0.12419350445270538, 0.8688399791717529]"
            ]
          },
          "metadata": {},
          "execution_count": 108
        }
      ]
    },
    {
      "cell_type": "code",
      "source": [
        "\n",
        "\n",
        "Models = ('Model1','Model2','Model3','Model4','Model5')\n",
        "Loss = (0.8824,0.8821,0.8799,0.8632,0.8684)\n",
        "\n",
        "plt.scatter(Models,Loss,color='blue')\n",
        "plt.title('Performance Loss')\n",
        "plt.ylabel('Loss (%)')\n",
        "\n",
        "for (xi, yi) in zip(Models,Loss):\n",
        "    plt.text(xi, yi, yi, va='bottom', ha='center')\n",
        "\n",
        "\n",
        "plt.show()"
      ],
      "metadata": {
        "colab": {
          "base_uri": "https://localhost:8080/",
          "height": 281
        },
        "id": "gbereQzKgvIr",
        "outputId": "793dda9b-fcfc-4e11-defc-613ec93810d7"
      },
      "execution_count": 109,
      "outputs": [
        {
          "output_type": "display_data",
          "data": {
            "text/plain": [
              "<Figure size 432x288 with 1 Axes>"
            ],
            "image/png": "[encoded data removed]"
          },
          "metadata": {
            "needs_background": "light"
          }
        }
      ]
    },
    {
      "cell_type": "markdown",
      "source": [],
      "metadata": {
        "id": "q0i0D9wJkNCu"
      }
    }
  ]
}